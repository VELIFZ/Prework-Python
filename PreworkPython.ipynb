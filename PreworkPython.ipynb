{
 "cells": [
  {
   "cell_type": "code",
   "execution_count": 4,
   "id": "24425c7c",
   "metadata": {},
   "outputs": [
    {
     "name": "stdout",
     "output_type": "stream",
     "text": [
      "Please enter your name: elif\n",
      "hello_ELIF!\n"
     ]
    }
   ],
   "source": [
    "#Question 1:\n",
    "# #Write a function to print \"hello_USERNAME!\" USERNAME is the input of the function.\n",
    "\n",
    "\n",
    "def hello_name(user_name):\n",
    "    user_name = input(\"Please enter your name: \")\n",
    "    print(\"hello_\" + user_name.upper() + \"!\")\n",
    "        \n",
    "hello_name('username')"
   ]
  },
  {
   "cell_type": "code",
   "execution_count": 8,
   "id": "6d0e3306",
   "metadata": {},
   "outputs": [
    {
     "name": "stdout",
     "output_type": "stream",
     "text": [
      "None\n"
     ]
    }
   ],
   "source": [
    "#Question 2:\n",
    "#Write a python function, first_odds that prints the odd numbers from 1-100 and returns nothing\n",
    "\n",
    "def first_odds():\n",
    "    for i in range(1, 101, 1):\n",
    "        return\n",
    "print(first_odds())"
   ]
  },
  {
   "cell_type": "code",
   "execution_count": 11,
   "id": "f870f3dd",
   "metadata": {},
   "outputs": [
    {
     "name": "stdout",
     "output_type": "stream",
     "text": [
      "1\n",
      "3\n",
      "5\n",
      "7\n",
      "9\n",
      "11\n",
      "13\n",
      "15\n",
      "17\n",
      "19\n",
      "21\n",
      "23\n",
      "25\n",
      "27\n",
      "29\n",
      "31\n",
      "33\n",
      "35\n",
      "37\n",
      "39\n",
      "41\n",
      "43\n",
      "45\n",
      "47\n",
      "49\n",
      "51\n",
      "53\n",
      "55\n",
      "57\n",
      "59\n",
      "61\n",
      "63\n",
      "65\n",
      "67\n",
      "69\n",
      "71\n",
      "73\n",
      "75\n",
      "77\n",
      "79\n",
      "81\n",
      "83\n",
      "85\n",
      "87\n",
      "89\n",
      "91\n",
      "93\n",
      "95\n",
      "97\n",
      "99\n"
     ]
    }
   ],
   "source": [
    "def first_odds():\n",
    "    for num in range(1,101):\n",
    "        if num % 2 == 1:\n",
    "            print(num)\n",
    "        \n",
    "first_odds()"
   ]
  },
  {
   "cell_type": "code",
   "execution_count": 15,
   "id": "e0c74108",
   "metadata": {},
   "outputs": [
    {
     "name": "stdout",
     "output_type": "stream",
     "text": [
      "[22, 27, 38, 23, 25, 47, 34, 30, 86, 42]\n"
     ]
    },
    {
     "data": {
      "text/plain": [
       "86"
      ]
     },
     "execution_count": 15,
     "metadata": {},
     "output_type": "execute_result"
    }
   ],
   "source": [
    "#Question 3:\n",
    "#Please write a Python function, max_num_in_list to return the max number of a given list.\n",
    "\n",
    "import random\n",
    "\n",
    "numbers = random.sample(range(0, 100), 10)\n",
    "print(numbers)\n",
    "\n",
    "def max_num_in(numbers):\n",
    "    max_num = 0\n",
    "    for i in numbers:\n",
    "        if i > max_num:\n",
    "            max_num =i\n",
    "    return max_num\n",
    "\n",
    "max_num_in(numbers)"
   ]
  },
  {
   "cell_type": "code",
   "execution_count": 21,
   "id": "9c8f25eb",
   "metadata": {},
   "outputs": [
    {
     "name": "stdout",
     "output_type": "stream",
     "text": [
      "86\n"
     ]
    }
   ],
   "source": [
    "print(max(numbers))"
   ]
  },
  {
   "cell_type": "code",
   "execution_count": 22,
   "id": "e500990f",
   "metadata": {},
   "outputs": [
    {
     "name": "stdout",
     "output_type": "stream",
     "text": [
      "86\n"
     ]
    }
   ],
   "source": [
    "sorted_numbers = sorted(numbers)\n",
    "print(sorted_numbers[-1])"
   ]
  },
  {
   "cell_type": "code",
   "execution_count": 17,
   "id": "3f6c983a",
   "metadata": {},
   "outputs": [
    {
     "name": "stdout",
     "output_type": "stream",
     "text": [
      "True\n",
      "False\n",
      "False\n"
     ]
    }
   ],
   "source": [
    "#Question 4:\n",
    "#Write a function to return if the given year is a leap year. A leap year is divisible by 4, but not divisible by 100, unless it is also divisible by 400. The return should be boolean Type (true/false).\n",
    "\n",
    "def leap_year(year):\n",
    "    return year % 4 == 0 and year % 100 != 0 or year % 400 == 0\n",
    "\n",
    "print(leap_year(2000))\n",
    "print(leap_year(2022))\n",
    "print(leap_year(1990))"
   ]
  },
  {
   "cell_type": "code",
   "execution_count": 20,
   "id": "e1bcc287",
   "metadata": {},
   "outputs": [
    {
     "name": "stdout",
     "output_type": "stream",
     "text": [
      "False\n"
     ]
    }
   ],
   "source": [
    "#Question 5:\n",
    "#Write a function to check to see if all numbers in list are consecutive numbers. The return should be boolean Type.\n",
    "\n",
    "def cons_nums(numbers):\n",
    "    maximum = max(numbers)\n",
    "    if sum(numbers) == maximum * (maximum+1) /2 :\n",
    "        return True\n",
    "    return False\n",
    "\n",
    "print(cons_nums(numbers))"
   ]
  },
  {
   "cell_type": "code",
   "execution_count": null,
   "id": "735c337d",
   "metadata": {},
   "outputs": [],
   "source": []
  }
 ],
 "metadata": {
  "kernelspec": {
   "display_name": "Python 3",
   "language": "python",
   "name": "python3"
  },
  "language_info": {
   "codemirror_mode": {
    "name": "ipython",
    "version": 3
   },
   "file_extension": ".py",
   "mimetype": "text/x-python",
   "name": "python",
   "nbconvert_exporter": "python",
   "pygments_lexer": "ipython3",
   "version": "3.8.8"
  }
 },
 "nbformat": 4,
 "nbformat_minor": 5
}
